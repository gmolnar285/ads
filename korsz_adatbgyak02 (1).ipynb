{
    "metadata": {
        "kernelspec": {
            "name": "SQL",
            "display_name": "SQL",
            "language": "sql"
        },
        "language_info": {
            "name": "sql",
            "version": ""
        },
        "extensions": {
            "azuredatastudio": {
                "version": 1,
                "views": []
            }
        }
    },
    "nbformat_minor": 2,
    "nbformat": 4,
    "cells": [
        {
            "cell_type": "markdown",
            "source": [
                "<span style=\"color: #09885a;\">1. </span> Készítsünk listát arról, hogy melyik ügyfél (<span style=\"color: rgb(0, 0, 255);\">LOGIN</span>) hányszor rendelt  \n",
                "összesen. A lista tartalmazza a végösszeget <span style=\"color: rgb(0, 0, 255);\">is</span>. A listát rendezzük  \n",
                "a rendelések száma szerint növekvő sorrendbe!"
            ],
            "metadata": {
                "azdata_cell_guid": "25ef83ae-5fe7-48db-9faf-792af8dce555"
            },
            "attachments": {}
        },
        {
            "cell_type": "code",
            "source": [
                "SELECT [LOGIN],\r\n",
                "       COUNT(*)\r\n",
                "FROM Rendeles\r\n",
                "GROUP BY ROLLUP([LOGIN])\r\n",
                "ORDER BY COUNT(*)\r\n",
                ""
            ],
            "metadata": {
                "azdata_cell_guid": "0204549b-7a8b-46a5-9862-70e57a3de34f"
            },
            "outputs": [
                {
                    "output_type": "display_data",
                    "data": {
                        "text/html": "(192 rows affected)"
                    },
                    "metadata": {}
                },
                {
                    "output_type": "display_data",
                    "data": {
                        "text/html": "Total execution time: 00:00:00.159"
                    },
                    "metadata": {}
                },
                {
                    "output_type": "execute_result",
                    "metadata": {},
                    "execution_count": 1,
                    "data": {
                        "application/vnd.dataresource+json": {
                            "schema": {
                                "fields": [
                                    {
                                        "name": "LOGIN"
                                    },
                                    {
                                        "name": "(No column name)"
                                    }
                                ]
                            },
                            "data": [
                                {
                                    "0": "EVAV",
                                    "1": "7"
                                },
                                {
                                    "0": "roza2",
                                    "1": "8"
                                },
                                {
                                    "0": "andras3",
                                    "1": "9"
                                },
                                {
                                    "0": "denes",
                                    "1": "9"
                                },
                                {
                                    "0": "JANOSG",
                                    "1": "10"
                                },
                                {
                                    "0": "maria1",
                                    "1": "10"
                                },
                                {
                                    "0": "kornel4",
                                    "1": "11"
                                },
                                {
                                    "0": "norbert2",
                                    "1": "11"
                                },
                                {
                                    "0": "istvan",
                                    "1": "11"
                                },
                                {
                                    "0": "AGNESH",
                                    "1": "11"
                                },
                                {
                                    "0": "sandor4",
                                    "1": "11"
                                },
                                {
                                    "0": "andras4",
                                    "1": "12"
                                },
                                {
                                    "0": "anita",
                                    "1": "12"
                                },
                                {
                                    "0": "kata",
                                    "1": "12"
                                },
                                {
                                    "0": "MATYASS",
                                    "1": "12"
                                },
                                {
                                    "0": "MIHALYJ",
                                    "1": "13"
                                },
                                {
                                    "0": "miklos2",
                                    "1": "13"
                                },
                                {
                                    "0": "norbert4",
                                    "1": "13"
                                },
                                {
                                    "0": "kati",
                                    "1": "13"
                                },
                                {
                                    "0": "kriszti",
                                    "1": "13"
                                },
                                {
                                    "0": "jozsef2",
                                    "1": "13"
                                },
                                {
                                    "0": "janos3",
                                    "1": "13"
                                },
                                {
                                    "0": "ANNAMARIAR",
                                    "1": "13"
                                },
                                {
                                    "0": "edit",
                                    "1": "13"
                                },
                                {
                                    "0": "dani",
                                    "1": "13"
                                },
                                {
                                    "0": "daniel",
                                    "1": "13"
                                },
                                {
                                    "0": "tamara2",
                                    "1": "13"
                                },
                                {
                                    "0": "robert2",
                                    "1": "13"
                                },
                                {
                                    "0": "ROBERTI",
                                    "1": "13"
                                },
                                {
                                    "0": "valentin",
                                    "1": "13"
                                },
                                {
                                    "0": "ZOLTANP",
                                    "1": "13"
                                },
                                {
                                    "0": "VIKTORIAU",
                                    "1": "14"
                                },
                                {
                                    "0": "sandor3",
                                    "1": "14"
                                },
                                {
                                    "0": "ATTILAO",
                                    "1": "14"
                                },
                                {
                                    "0": "ARPADH",
                                    "1": "14"
                                },
                                {
                                    "0": "julia4",
                                    "1": "14"
                                },
                                {
                                    "0": "gabriella1",
                                    "1": "14"
                                },
                                {
                                    "0": "gusztav",
                                    "1": "14"
                                },
                                {
                                    "0": "marton",
                                    "1": "14"
                                },
                                {
                                    "0": "PETERB",
                                    "1": "15"
                                },
                                {
                                    "0": "MIKLOSB",
                                    "1": "15"
                                },
                                {
                                    "0": "GYONGYIK",
                                    "1": "15"
                                },
                                {
                                    "0": "GABORS",
                                    "1": "15"
                                },
                                {
                                    "0": "imre",
                                    "1": "15"
                                },
                                {
                                    "0": "imre1",
                                    "1": "15"
                                },
                                {
                                    "0": "aniko4",
                                    "1": "15"
                                },
                                {
                                    "0": "AGNESK",
                                    "1": "15"
                                },
                                {
                                    "0": "adam3",
                                    "1": "15"
                                },
                                {
                                    "0": "balazs3",
                                    "1": "15"
                                },
                                {
                                    "0": "bernadett2",
                                    "1": "15"
                                },
                                {
                                    "0": "csongor3",
                                    "1": "15"
                                },
                                {
                                    "0": "SEBASTIANF",
                                    "1": "15"
                                },
                                {
                                    "0": "zoltan",
                                    "1": "15"
                                },
                                {
                                    "0": "zsuzsanna",
                                    "1": "15"
                                },
                                {
                                    "0": "zsuzsa",
                                    "1": "16"
                                },
                                {
                                    "0": "zsuzsa3",
                                    "1": "16"
                                },
                                {
                                    "0": "timea2",
                                    "1": "16"
                                },
                                {
                                    "0": "tunde",
                                    "1": "16"
                                },
                                {
                                    "0": "sebestyen",
                                    "1": "16"
                                },
                                {
                                    "0": "RENATAS",
                                    "1": "16"
                                },
                                {
                                    "0": "debora",
                                    "1": "16"
                                },
                                {
                                    "0": "BERNADETTO",
                                    "1": "16"
                                },
                                {
                                    "0": "balint",
                                    "1": "16"
                                },
                                {
                                    "0": "annamaria1",
                                    "1": "16"
                                },
                                {
                                    "0": "ARPADM",
                                    "1": "16"
                                },
                                {
                                    "0": "gabriella10",
                                    "1": "16"
                                },
                                {
                                    "0": "GYORGYO",
                                    "1": "16"
                                },
                                {
                                    "0": "henrik3",
                                    "1": "16"
                                },
                                {
                                    "0": "lajos",
                                    "1": "16"
                                },
                                {
                                    "0": "norbert5",
                                    "1": "16"
                                },
                                {
                                    "0": "nikolett3",
                                    "1": "17"
                                },
                                {
                                    "0": "rajmond4",
                                    "1": "17"
                                },
                                {
                                    "0": "lala",
                                    "1": "17"
                                },
                                {
                                    "0": "klaudia2",
                                    "1": "17"
                                },
                                {
                                    "0": "JANOSP",
                                    "1": "17"
                                },
                                {
                                    "0": "krisztian4",
                                    "1": "17"
                                },
                                {
                                    "0": "arpad2",
                                    "1": "17"
                                },
                                {
                                    "0": "balint2",
                                    "1": "17"
                                },
                                {
                                    "0": "balazs2",
                                    "1": "17"
                                },
                                {
                                    "0": "BENCEB",
                                    "1": "17"
                                },
                                {
                                    "0": "david1",
                                    "1": "17"
                                },
                                {
                                    "0": "sandor",
                                    "1": "17"
                                },
                                {
                                    "0": "veronika4",
                                    "1": "18"
                                },
                                {
                                    "0": "ZSOLTJ",
                                    "1": "18"
                                },
                                {
                                    "0": "BELAF",
                                    "1": "18"
                                },
                                {
                                    "0": "bence",
                                    "1": "18"
                                },
                                {
                                    "0": "attila1",
                                    "1": "18"
                                },
                                {
                                    "0": "andrea4",
                                    "1": "18"
                                },
                                {
                                    "0": "anett3",
                                    "1": "18"
                                },
                                {
                                    "0": "andi",
                                    "1": "18"
                                },
                                {
                                    "0": "fruzsina4",
                                    "1": "18"
                                },
                                {
                                    "0": "ilona3",
                                    "1": "18"
                                },
                                {
                                    "0": "peter2",
                                    "1": "18"
                                },
                                {
                                    "0": "istvan1",
                                    "1": "19"
                                },
                                {
                                    "0": "gabor1",
                                    "1": "19"
                                },
                                {
                                    "0": "katalin",
                                    "1": "19"
                                },
                                {
                                    "0": "alexandra",
                                    "1": "19"
                                },
                                {
                                    "0": "zsofi1",
                                    "1": "19"
                                },
                                {
                                    "0": "zsolt1",
                                    "1": "20"
                                },
                                {
                                    "0": "VIKTORK",
                                    "1": "20"
                                },
                                {
                                    "0": "tihamer",
                                    "1": "20"
                                },
                                {
                                    "0": "sara",
                                    "1": "20"
                                },
                                {
                                    "0": "bernadett1",
                                    "1": "20"
                                },
                                {
                                    "0": "gabor4",
                                    "1": "20"
                                },
                                {
                                    "0": "reka4",
                                    "1": "20"
                                },
                                {
                                    "0": "kristof4",
                                    "1": "21"
                                },
                                {
                                    "0": "ISTVANV",
                                    "1": "21"
                                },
                                {
                                    "0": "georgij",
                                    "1": "21"
                                },
                                {
                                    "0": "JOZSEFG",
                                    "1": "21"
                                },
                                {
                                    "0": "david4",
                                    "1": "21"
                                },
                                {
                                    "0": "ANDREAT",
                                    "1": "21"
                                },
                                {
                                    "0": "andras2",
                                    "1": "22"
                                },
                                {
                                    "0": "ESZTERE",
                                    "1": "22"
                                },
                                {
                                    "0": "katka",
                                    "1": "22"
                                },
                                {
                                    "0": "krisztina1",
                                    "1": "22"
                                },
                                {
                                    "0": "KRISZTINAG",
                                    "1": "22"
                                },
                                {
                                    "0": "polla",
                                    "1": "22"
                                },
                                {
                                    "0": "vivien3",
                                    "1": "22"
                                },
                                {
                                    "0": "katalin4",
                                    "1": "23"
                                },
                                {
                                    "0": "ANDRASN",
                                    "1": "24"
                                },
                                {
                                    "0": "andrea",
                                    "1": "24"
                                },
                                {
                                    "0": "peter3",
                                    "1": "25"
                                },
                                {
                                    "0": "NIKOLETTAT",
                                    "1": "25"
                                },
                                {
                                    "0": "MATEK",
                                    "1": "25"
                                },
                                {
                                    "0": "laszlo2",
                                    "1": "25"
                                },
                                {
                                    "0": "tibor2",
                                    "1": "25"
                                },
                                {
                                    "0": "ROBERTP",
                                    "1": "26"
                                },
                                {
                                    "0": "julianna4",
                                    "1": "27"
                                },
                                {
                                    "0": "adam4",
                                    "1": "29"
                                },
                                {
                                    "0": "timea",
                                    "1": "55"
                                },
                                {
                                    "0": "bertalan",
                                    "1": "353"
                                },
                                {
                                    "0": "ZOLTANT",
                                    "1": "357"
                                },
                                {
                                    "0": "tibor",
                                    "1": "374"
                                },
                                {
                                    "0": "jozsef",
                                    "1": "382"
                                },
                                {
                                    "0": "KRISZTIANM",
                                    "1": "384"
                                },
                                {
                                    "0": "SZILARDS",
                                    "1": "386"
                                },
                                {
                                    "0": "balu",
                                    "1": "387"
                                },
                                {
                                    "0": "andras21",
                                    "1": "390"
                                },
                                {
                                    "0": "adam1",
                                    "1": "392"
                                },
                                {
                                    "0": "brigitta",
                                    "1": "393"
                                },
                                {
                                    "0": "laszlo1",
                                    "1": "394"
                                },
                                {
                                    "0": "LASZLON",
                                    "1": "400"
                                },
                                {
                                    "0": "attila4",
                                    "1": "401"
                                },
                                {
                                    "0": "aniko",
                                    "1": "403"
                                },
                                {
                                    "0": "ANIKOS",
                                    "1": "404"
                                },
                                {
                                    "0": "eva",
                                    "1": "404"
                                },
                                {
                                    "0": "emese",
                                    "1": "406"
                                },
                                {
                                    "0": "MONIKAM",
                                    "1": "407"
                                },
                                {
                                    "0": "aladar",
                                    "1": "408"
                                },
                                {
                                    "0": "SZABOLCSM",
                                    "1": "408"
                                },
                                {
                                    "0": "aron2",
                                    "1": "409"
                                },
                                {
                                    "0": "MARKH",
                                    "1": "412"
                                },
                                {
                                    "0": "peter1",
                                    "1": "412"
                                },
                                {
                                    "0": "andrea3",
                                    "1": "413"
                                },
                                {
                                    "0": "brigitta3",
                                    "1": "413"
                                },
                                {
                                    "0": "nikoletta4",
                                    "1": "414"
                                },
                                {
                                    "0": "roland",
                                    "1": "414"
                                },
                                {
                                    "0": "eszter2",
                                    "1": "415"
                                },
                                {
                                    "0": "agnes",
                                    "1": "418"
                                },
                                {
                                    "0": "andras41",
                                    "1": "419"
                                },
                                {
                                    "0": "daniel1",
                                    "1": "419"
                                },
                                {
                                    "0": "balazs1",
                                    "1": "419"
                                },
                                {
                                    "0": "BEATRIXS",
                                    "1": "420"
                                },
                                {
                                    "0": "NANDORF",
                                    "1": "420"
                                },
                                {
                                    "0": "ZSUZSAV",
                                    "1": "420"
                                },
                                {
                                    "0": "tamas",
                                    "1": "421"
                                },
                                {
                                    "0": "RENATAK",
                                    "1": "422"
                                },
                                {
                                    "0": "IBOLYAA",
                                    "1": "422"
                                },
                                {
                                    "0": "eszter4",
                                    "1": "424"
                                },
                                {
                                    "0": "zoltan4",
                                    "1": "424"
                                },
                                {
                                    "0": "akos",
                                    "1": "429"
                                },
                                {
                                    "0": "agnes3",
                                    "1": "430"
                                },
                                {
                                    "0": "ARONK",
                                    "1": "430"
                                },
                                {
                                    "0": "dora3",
                                    "1": "432"
                                },
                                {
                                    "0": "roland1",
                                    "1": "432"
                                },
                                {
                                    "0": "TAMASF",
                                    "1": "433"
                                },
                                {
                                    "0": "matyas2",
                                    "1": "433"
                                },
                                {
                                    "0": "julia",
                                    "1": "435"
                                },
                                {
                                    "0": "BEATRIXK",
                                    "1": "435"
                                },
                                {
                                    "0": "ANDRASE",
                                    "1": "436"
                                },
                                {
                                    "0": "ferenc1",
                                    "1": "437"
                                },
                                {
                                    "0": "pal",
                                    "1": "438"
                                },
                                {
                                    "0": "szilvia1",
                                    "1": "445"
                                },
                                {
                                    "0": "LASZLOA",
                                    "1": "446"
                                },
                                {
                                    "0": "JUDITH",
                                    "1": "450"
                                },
                                {
                                    "0": "david",
                                    "1": "451"
                                },
                                {
                                    "0": "krisztina",
                                    "1": "456"
                                },
                                {
                                    "0": "eva2",
                                    "1": "462"
                                },
                                {
                                    "0": "balint1",
                                    "1": "462"
                                },
                                {
                                    "0": "szabolcs",
                                    "1": "471"
                                },
                                {
                                    "0": "peter4",
                                    "1": "852"
                                },
                                {
                                    "0": "NULL",
                                    "1": "28085"
                                }
                            ]
                        },
                        "text/html": [
                            "<table>",
                            "<tr><th>LOGIN</th><th>(No column name)</th></tr>",
                            "<tr><td>EVAV</td><td>7</td></tr>",
                            "<tr><td>roza2</td><td>8</td></tr>",
                            "<tr><td>andras3</td><td>9</td></tr>",
                            "<tr><td>denes</td><td>9</td></tr>",
                            "<tr><td>JANOSG</td><td>10</td></tr>",
                            "<tr><td>maria1</td><td>10</td></tr>",
                            "<tr><td>kornel4</td><td>11</td></tr>",
                            "<tr><td>norbert2</td><td>11</td></tr>",
                            "<tr><td>istvan</td><td>11</td></tr>",
                            "<tr><td>AGNESH</td><td>11</td></tr>",
                            "<tr><td>sandor4</td><td>11</td></tr>",
                            "<tr><td>andras4</td><td>12</td></tr>",
                            "<tr><td>anita</td><td>12</td></tr>",
                            "<tr><td>kata</td><td>12</td></tr>",
                            "<tr><td>MATYASS</td><td>12</td></tr>",
                            "<tr><td>MIHALYJ</td><td>13</td></tr>",
                            "<tr><td>miklos2</td><td>13</td></tr>",
                            "<tr><td>norbert4</td><td>13</td></tr>",
                            "<tr><td>kati</td><td>13</td></tr>",
                            "<tr><td>kriszti</td><td>13</td></tr>",
                            "<tr><td>jozsef2</td><td>13</td></tr>",
                            "<tr><td>janos3</td><td>13</td></tr>",
                            "<tr><td>ANNAMARIAR</td><td>13</td></tr>",
                            "<tr><td>edit</td><td>13</td></tr>",
                            "<tr><td>dani</td><td>13</td></tr>",
                            "<tr><td>daniel</td><td>13</td></tr>",
                            "<tr><td>tamara2</td><td>13</td></tr>",
                            "<tr><td>robert2</td><td>13</td></tr>",
                            "<tr><td>ROBERTI</td><td>13</td></tr>",
                            "<tr><td>valentin</td><td>13</td></tr>",
                            "<tr><td>ZOLTANP</td><td>13</td></tr>",
                            "<tr><td>VIKTORIAU</td><td>14</td></tr>",
                            "<tr><td>sandor3</td><td>14</td></tr>",
                            "<tr><td>ATTILAO</td><td>14</td></tr>",
                            "<tr><td>ARPADH</td><td>14</td></tr>",
                            "<tr><td>julia4</td><td>14</td></tr>",
                            "<tr><td>gabriella1</td><td>14</td></tr>",
                            "<tr><td>gusztav</td><td>14</td></tr>",
                            "<tr><td>marton</td><td>14</td></tr>",
                            "<tr><td>PETERB</td><td>15</td></tr>",
                            "<tr><td>MIKLOSB</td><td>15</td></tr>",
                            "<tr><td>GYONGYIK</td><td>15</td></tr>",
                            "<tr><td>GABORS</td><td>15</td></tr>",
                            "<tr><td>imre</td><td>15</td></tr>",
                            "<tr><td>imre1</td><td>15</td></tr>",
                            "<tr><td>aniko4</td><td>15</td></tr>",
                            "<tr><td>AGNESK</td><td>15</td></tr>",
                            "<tr><td>adam3</td><td>15</td></tr>",
                            "<tr><td>balazs3</td><td>15</td></tr>",
                            "<tr><td>bernadett2</td><td>15</td></tr>",
                            "<tr><td>csongor3</td><td>15</td></tr>",
                            "<tr><td>SEBASTIANF</td><td>15</td></tr>",
                            "<tr><td>zoltan</td><td>15</td></tr>",
                            "<tr><td>zsuzsanna</td><td>15</td></tr>",
                            "<tr><td>zsuzsa</td><td>16</td></tr>",
                            "<tr><td>zsuzsa3</td><td>16</td></tr>",
                            "<tr><td>timea2</td><td>16</td></tr>",
                            "<tr><td>tunde</td><td>16</td></tr>",
                            "<tr><td>sebestyen</td><td>16</td></tr>",
                            "<tr><td>RENATAS</td><td>16</td></tr>",
                            "<tr><td>debora</td><td>16</td></tr>",
                            "<tr><td>BERNADETTO</td><td>16</td></tr>",
                            "<tr><td>balint</td><td>16</td></tr>",
                            "<tr><td>annamaria1</td><td>16</td></tr>",
                            "<tr><td>ARPADM</td><td>16</td></tr>",
                            "<tr><td>gabriella10</td><td>16</td></tr>",
                            "<tr><td>GYORGYO</td><td>16</td></tr>",
                            "<tr><td>henrik3</td><td>16</td></tr>",
                            "<tr><td>lajos</td><td>16</td></tr>",
                            "<tr><td>norbert5</td><td>16</td></tr>",
                            "<tr><td>nikolett3</td><td>17</td></tr>",
                            "<tr><td>rajmond4</td><td>17</td></tr>",
                            "<tr><td>lala</td><td>17</td></tr>",
                            "<tr><td>klaudia2</td><td>17</td></tr>",
                            "<tr><td>JANOSP</td><td>17</td></tr>",
                            "<tr><td>krisztian4</td><td>17</td></tr>",
                            "<tr><td>arpad2</td><td>17</td></tr>",
                            "<tr><td>balint2</td><td>17</td></tr>",
                            "<tr><td>balazs2</td><td>17</td></tr>",
                            "<tr><td>BENCEB</td><td>17</td></tr>",
                            "<tr><td>david1</td><td>17</td></tr>",
                            "<tr><td>sandor</td><td>17</td></tr>",
                            "<tr><td>veronika4</td><td>18</td></tr>",
                            "<tr><td>ZSOLTJ</td><td>18</td></tr>",
                            "<tr><td>BELAF</td><td>18</td></tr>",
                            "<tr><td>bence</td><td>18</td></tr>",
                            "<tr><td>attila1</td><td>18</td></tr>",
                            "<tr><td>andrea4</td><td>18</td></tr>",
                            "<tr><td>anett3</td><td>18</td></tr>",
                            "<tr><td>andi</td><td>18</td></tr>",
                            "<tr><td>fruzsina4</td><td>18</td></tr>",
                            "<tr><td>ilona3</td><td>18</td></tr>",
                            "<tr><td>peter2</td><td>18</td></tr>",
                            "<tr><td>istvan1</td><td>19</td></tr>",
                            "<tr><td>gabor1</td><td>19</td></tr>",
                            "<tr><td>katalin</td><td>19</td></tr>",
                            "<tr><td>alexandra</td><td>19</td></tr>",
                            "<tr><td>zsofi1</td><td>19</td></tr>",
                            "<tr><td>zsolt1</td><td>20</td></tr>",
                            "<tr><td>VIKTORK</td><td>20</td></tr>",
                            "<tr><td>tihamer</td><td>20</td></tr>",
                            "<tr><td>sara</td><td>20</td></tr>",
                            "<tr><td>bernadett1</td><td>20</td></tr>",
                            "<tr><td>gabor4</td><td>20</td></tr>",
                            "<tr><td>reka4</td><td>20</td></tr>",
                            "<tr><td>kristof4</td><td>21</td></tr>",
                            "<tr><td>ISTVANV</td><td>21</td></tr>",
                            "<tr><td>georgij</td><td>21</td></tr>",
                            "<tr><td>JOZSEFG</td><td>21</td></tr>",
                            "<tr><td>david4</td><td>21</td></tr>",
                            "<tr><td>ANDREAT</td><td>21</td></tr>",
                            "<tr><td>andras2</td><td>22</td></tr>",
                            "<tr><td>ESZTERE</td><td>22</td></tr>",
                            "<tr><td>katka</td><td>22</td></tr>",
                            "<tr><td>krisztina1</td><td>22</td></tr>",
                            "<tr><td>KRISZTINAG</td><td>22</td></tr>",
                            "<tr><td>polla</td><td>22</td></tr>",
                            "<tr><td>vivien3</td><td>22</td></tr>",
                            "<tr><td>katalin4</td><td>23</td></tr>",
                            "<tr><td>ANDRASN</td><td>24</td></tr>",
                            "<tr><td>andrea</td><td>24</td></tr>",
                            "<tr><td>peter3</td><td>25</td></tr>",
                            "<tr><td>NIKOLETTAT</td><td>25</td></tr>",
                            "<tr><td>MATEK</td><td>25</td></tr>",
                            "<tr><td>laszlo2</td><td>25</td></tr>",
                            "<tr><td>tibor2</td><td>25</td></tr>",
                            "<tr><td>ROBERTP</td><td>26</td></tr>",
                            "<tr><td>julianna4</td><td>27</td></tr>",
                            "<tr><td>adam4</td><td>29</td></tr>",
                            "<tr><td>timea</td><td>55</td></tr>",
                            "<tr><td>bertalan</td><td>353</td></tr>",
                            "<tr><td>ZOLTANT</td><td>357</td></tr>",
                            "<tr><td>tibor</td><td>374</td></tr>",
                            "<tr><td>jozsef</td><td>382</td></tr>",
                            "<tr><td>KRISZTIANM</td><td>384</td></tr>",
                            "<tr><td>SZILARDS</td><td>386</td></tr>",
                            "<tr><td>balu</td><td>387</td></tr>",
                            "<tr><td>andras21</td><td>390</td></tr>",
                            "<tr><td>adam1</td><td>392</td></tr>",
                            "<tr><td>brigitta</td><td>393</td></tr>",
                            "<tr><td>laszlo1</td><td>394</td></tr>",
                            "<tr><td>LASZLON</td><td>400</td></tr>",
                            "<tr><td>attila4</td><td>401</td></tr>",
                            "<tr><td>aniko</td><td>403</td></tr>",
                            "<tr><td>ANIKOS</td><td>404</td></tr>",
                            "<tr><td>eva</td><td>404</td></tr>",
                            "<tr><td>emese</td><td>406</td></tr>",
                            "<tr><td>MONIKAM</td><td>407</td></tr>",
                            "<tr><td>aladar</td><td>408</td></tr>",
                            "<tr><td>SZABOLCSM</td><td>408</td></tr>",
                            "<tr><td>aron2</td><td>409</td></tr>",
                            "<tr><td>MARKH</td><td>412</td></tr>",
                            "<tr><td>peter1</td><td>412</td></tr>",
                            "<tr><td>andrea3</td><td>413</td></tr>",
                            "<tr><td>brigitta3</td><td>413</td></tr>",
                            "<tr><td>nikoletta4</td><td>414</td></tr>",
                            "<tr><td>roland</td><td>414</td></tr>",
                            "<tr><td>eszter2</td><td>415</td></tr>",
                            "<tr><td>agnes</td><td>418</td></tr>",
                            "<tr><td>andras41</td><td>419</td></tr>",
                            "<tr><td>daniel1</td><td>419</td></tr>",
                            "<tr><td>balazs1</td><td>419</td></tr>",
                            "<tr><td>BEATRIXS</td><td>420</td></tr>",
                            "<tr><td>NANDORF</td><td>420</td></tr>",
                            "<tr><td>ZSUZSAV</td><td>420</td></tr>",
                            "<tr><td>tamas</td><td>421</td></tr>",
                            "<tr><td>RENATAK</td><td>422</td></tr>",
                            "<tr><td>IBOLYAA</td><td>422</td></tr>",
                            "<tr><td>eszter4</td><td>424</td></tr>",
                            "<tr><td>zoltan4</td><td>424</td></tr>",
                            "<tr><td>akos</td><td>429</td></tr>",
                            "<tr><td>agnes3</td><td>430</td></tr>",
                            "<tr><td>ARONK</td><td>430</td></tr>",
                            "<tr><td>dora3</td><td>432</td></tr>",
                            "<tr><td>roland1</td><td>432</td></tr>",
                            "<tr><td>TAMASF</td><td>433</td></tr>",
                            "<tr><td>matyas2</td><td>433</td></tr>",
                            "<tr><td>julia</td><td>435</td></tr>",
                            "<tr><td>BEATRIXK</td><td>435</td></tr>",
                            "<tr><td>ANDRASE</td><td>436</td></tr>",
                            "<tr><td>ferenc1</td><td>437</td></tr>",
                            "<tr><td>pal</td><td>438</td></tr>",
                            "<tr><td>szilvia1</td><td>445</td></tr>",
                            "<tr><td>LASZLOA</td><td>446</td></tr>",
                            "<tr><td>JUDITH</td><td>450</td></tr>",
                            "<tr><td>david</td><td>451</td></tr>",
                            "<tr><td>krisztina</td><td>456</td></tr>",
                            "<tr><td>eva2</td><td>462</td></tr>",
                            "<tr><td>balint1</td><td>462</td></tr>",
                            "<tr><td>szabolcs</td><td>471</td></tr>",
                            "<tr><td>peter4</td><td>852</td></tr>",
                            "<tr><td>NULL</td><td>28085</td></tr>",
                            "</table>"
                        ]
                    }
                }
            ],
            "execution_count": 1
        },
        {
            "cell_type": "markdown",
            "source": [
                "2\\. Átlagosan hány termék van készleten kategóriánként (KAT\\_ID),  \n",
                "raktáranként (RAKTAR\\_KOD), illetve mennyiségi egységenként?  \n",
                "(szempontonként külön-külön) Az átlagot kerekítsük egészre!  \n",
                "A feladatot egy lekérdezéssel oldja meg!"
            ],
            "metadata": {
                "azdata_cell_guid": "453ffb66-ac5a-48c8-968c-465e7e64ca1b"
            },
            "attachments": {}
        },
        {
            "cell_type": "code",
            "source": [
                "--GROUPING SETS\r\n",
                "SELECT KAT_ID,\r\n",
                "       RAKTAR_KOD,\r\n",
                "       MEGYS,\r\n",
                "       --átlag kerekítve\r\n",
                "       ROUND(AVG(KESZLET), 0) AS 'Átlagos készlet'\r\n",
                "FROM Termek\r\n",
                "GROUP BY GROUPING SETS(KAT_ID, RAKTAR_KOD, MEGYS)"
            ],
            "metadata": {
                "azdata_cell_guid": "649f0fe8-fd7d-4e62-bc90-91076e6a80db",
                "tags": []
            },
            "outputs": [
                {
                    "output_type": "display_data",
                    "data": {
                        "text/html": "(158 rows affected)"
                    },
                    "metadata": {}
                },
                {
                    "output_type": "display_data",
                    "data": {
                        "text/html": "Total execution time: 00:00:00.068"
                    },
                    "metadata": {}
                },
                {
                    "output_type": "execute_result",
                    "metadata": {},
                    "execution_count": 2,
                    "data": {
                        "application/vnd.dataresource+json": {
                            "schema": {
                                "fields": [
                                    {
                                        "name": "KAT_ID"
                                    },
                                    {
                                        "name": "RAKTAR_KOD"
                                    },
                                    {
                                        "name": "MEGYS"
                                    },
                                    {
                                        "name": "Átlagos készlet"
                                    }
                                ]
                            },
                            "data": [
                                {
                                    "0": "NULL",
                                    "1": "NULL",
                                    "2": "csomag",
                                    "3": "797"
                                },
                                {
                                    "0": "NULL",
                                    "1": "NULL",
                                    "2": "db",
                                    "3": "1688"
                                },
                                {
                                    "0": "NULL",
                                    "1": "NULL",
                                    "2": "doboz",
                                    "3": "100"
                                },
                                {
                                    "0": "NULL",
                                    "1": "NULL",
                                    "2": "ív",
                                    "3": "729"
                                },
                                {
                                    "0": "NULL",
                                    "1": "NULL",
                                    "2": "tekercs",
                                    "3": "8000"
                                },
                                {
                                    "0": "NULL",
                                    "1": "NULL",
                                    "2": "üveg",
                                    "3": "300"
                                },
                                {
                                    "0": "NULL",
                                    "1": "1",
                                    "2": "NULL",
                                    "3": "249"
                                },
                                {
                                    "0": "NULL",
                                    "1": "2",
                                    "2": "NULL",
                                    "3": "217"
                                },
                                {
                                    "0": "NULL",
                                    "1": "3",
                                    "2": "NULL",
                                    "3": "263"
                                },
                                {
                                    "0": "NULL",
                                    "1": "4",
                                    "2": "NULL",
                                    "3": "380"
                                },
                                {
                                    "0": "NULL",
                                    "1": "5",
                                    "2": "NULL",
                                    "3": "885"
                                },
                                {
                                    "0": "NULL",
                                    "1": "6",
                                    "2": "NULL",
                                    "3": "2292"
                                },
                                {
                                    "0": "NULL",
                                    "1": "7",
                                    "2": "NULL",
                                    "3": "1746"
                                },
                                {
                                    "0": "NULL",
                                    "1": "8",
                                    "2": "NULL",
                                    "3": "2014"
                                },
                                {
                                    "0": "NULL",
                                    "1": "9",
                                    "2": "NULL",
                                    "3": "1211"
                                },
                                {
                                    "0": "4",
                                    "1": "NULL",
                                    "2": "NULL",
                                    "3": "833"
                                },
                                {
                                    "0": "5",
                                    "1": "NULL",
                                    "2": "NULL",
                                    "3": "1500"
                                },
                                {
                                    "0": "6",
                                    "1": "NULL",
                                    "2": "NULL",
                                    "3": "4250"
                                },
                                {
                                    "0": "7",
                                    "1": "NULL",
                                    "2": "NULL",
                                    "3": "833"
                                },
                                {
                                    "0": "8",
                                    "1": "NULL",
                                    "2": "NULL",
                                    "3": "302"
                                },
                                {
                                    "0": "9",
                                    "1": "NULL",
                                    "2": "NULL",
                                    "3": "3000"
                                },
                                {
                                    "0": "10",
                                    "1": "NULL",
                                    "2": "NULL",
                                    "3": "100"
                                },
                                {
                                    "0": "11",
                                    "1": "NULL",
                                    "2": "NULL",
                                    "3": "200"
                                },
                                {
                                    "0": "12",
                                    "1": "NULL",
                                    "2": "NULL",
                                    "3": "200"
                                },
                                {
                                    "0": "13",
                                    "1": "NULL",
                                    "2": "NULL",
                                    "3": "150"
                                },
                                {
                                    "0": "14",
                                    "1": "NULL",
                                    "2": "NULL",
                                    "3": "575"
                                },
                                {
                                    "0": "15",
                                    "1": "NULL",
                                    "2": "NULL",
                                    "3": "700"
                                },
                                {
                                    "0": "16",
                                    "1": "NULL",
                                    "2": "NULL",
                                    "3": "2414"
                                },
                                {
                                    "0": "17",
                                    "1": "NULL",
                                    "2": "NULL",
                                    "3": "400"
                                },
                                {
                                    "0": "18",
                                    "1": "NULL",
                                    "2": "NULL",
                                    "3": "150"
                                },
                                {
                                    "0": "19",
                                    "1": "NULL",
                                    "2": "NULL",
                                    "3": "295"
                                },
                                {
                                    "0": "20",
                                    "1": "NULL",
                                    "2": "NULL",
                                    "3": "400"
                                },
                                {
                                    "0": "21",
                                    "1": "NULL",
                                    "2": "NULL",
                                    "3": "580"
                                },
                                {
                                    "0": "22",
                                    "1": "NULL",
                                    "2": "NULL",
                                    "3": "150"
                                },
                                {
                                    "0": "24",
                                    "1": "NULL",
                                    "2": "NULL",
                                    "3": "1029"
                                },
                                {
                                    "0": "25",
                                    "1": "NULL",
                                    "2": "NULL",
                                    "3": "1975"
                                },
                                {
                                    "0": "26",
                                    "1": "NULL",
                                    "2": "NULL",
                                    "3": "400"
                                },
                                {
                                    "0": "27",
                                    "1": "NULL",
                                    "2": "NULL",
                                    "3": "167"
                                },
                                {
                                    "0": "28",
                                    "1": "NULL",
                                    "2": "NULL",
                                    "3": "13400"
                                },
                                {
                                    "0": "29",
                                    "1": "NULL",
                                    "2": "NULL",
                                    "3": "1300"
                                },
                                {
                                    "0": "30",
                                    "1": "NULL",
                                    "2": "NULL",
                                    "3": "1371"
                                },
                                {
                                    "0": "31",
                                    "1": "NULL",
                                    "2": "NULL",
                                    "3": "100"
                                },
                                {
                                    "0": "32",
                                    "1": "NULL",
                                    "2": "NULL",
                                    "3": "3900"
                                },
                                {
                                    "0": "33",
                                    "1": "NULL",
                                    "2": "NULL",
                                    "3": "200"
                                },
                                {
                                    "0": "34",
                                    "1": "NULL",
                                    "2": "NULL",
                                    "3": "300"
                                },
                                {
                                    "0": "35",
                                    "1": "NULL",
                                    "2": "NULL",
                                    "3": "324"
                                },
                                {
                                    "0": "36",
                                    "1": "NULL",
                                    "2": "NULL",
                                    "3": "440"
                                },
                                {
                                    "0": "37",
                                    "1": "NULL",
                                    "2": "NULL",
                                    "3": "381"
                                },
                                {
                                    "0": "38",
                                    "1": "NULL",
                                    "2": "NULL",
                                    "3": "173"
                                },
                                {
                                    "0": "39",
                                    "1": "NULL",
                                    "2": "NULL",
                                    "3": "247"
                                },
                                {
                                    "0": "40",
                                    "1": "NULL",
                                    "2": "NULL",
                                    "3": "900"
                                },
                                {
                                    "0": "41",
                                    "1": "NULL",
                                    "2": "NULL",
                                    "3": "354"
                                },
                                {
                                    "0": "42",
                                    "1": "NULL",
                                    "2": "NULL",
                                    "3": "500"
                                },
                                {
                                    "0": "43",
                                    "1": "NULL",
                                    "2": "NULL",
                                    "3": "100"
                                },
                                {
                                    "0": "44",
                                    "1": "NULL",
                                    "2": "NULL",
                                    "3": "200"
                                },
                                {
                                    "0": "45",
                                    "1": "NULL",
                                    "2": "NULL",
                                    "3": "1264"
                                },
                                {
                                    "0": "46",
                                    "1": "NULL",
                                    "2": "NULL",
                                    "3": "314"
                                },
                                {
                                    "0": "47",
                                    "1": "NULL",
                                    "2": "NULL",
                                    "3": "1200"
                                },
                                {
                                    "0": "48",
                                    "1": "NULL",
                                    "2": "NULL",
                                    "3": "1800"
                                },
                                {
                                    "0": "49",
                                    "1": "NULL",
                                    "2": "NULL",
                                    "3": "150"
                                },
                                {
                                    "0": "50",
                                    "1": "NULL",
                                    "2": "NULL",
                                    "3": "500"
                                },
                                {
                                    "0": "51",
                                    "1": "NULL",
                                    "2": "NULL",
                                    "3": "2133"
                                },
                                {
                                    "0": "52",
                                    "1": "NULL",
                                    "2": "NULL",
                                    "3": "6212"
                                },
                                {
                                    "0": "53",
                                    "1": "NULL",
                                    "2": "NULL",
                                    "3": "400"
                                },
                                {
                                    "0": "54",
                                    "1": "NULL",
                                    "2": "NULL",
                                    "3": "286"
                                },
                                {
                                    "0": "55",
                                    "1": "NULL",
                                    "2": "NULL",
                                    "3": "237"
                                },
                                {
                                    "0": "56",
                                    "1": "NULL",
                                    "2": "NULL",
                                    "3": "248"
                                },
                                {
                                    "0": "57",
                                    "1": "NULL",
                                    "2": "NULL",
                                    "3": "234"
                                },
                                {
                                    "0": "58",
                                    "1": "NULL",
                                    "2": "NULL",
                                    "3": "800"
                                },
                                {
                                    "0": "59",
                                    "1": "NULL",
                                    "2": "NULL",
                                    "3": "675"
                                },
                                {
                                    "0": "60",
                                    "1": "NULL",
                                    "2": "NULL",
                                    "3": "1080"
                                },
                                {
                                    "0": "61",
                                    "1": "NULL",
                                    "2": "NULL",
                                    "3": "700"
                                },
                                {
                                    "0": "62",
                                    "1": "NULL",
                                    "2": "NULL",
                                    "3": "1650"
                                },
                                {
                                    "0": "64",
                                    "1": "NULL",
                                    "2": "NULL",
                                    "3": "675"
                                },
                                {
                                    "0": "65",
                                    "1": "NULL",
                                    "2": "NULL",
                                    "3": "150"
                                },
                                {
                                    "0": "66",
                                    "1": "NULL",
                                    "2": "NULL",
                                    "3": "271"
                                },
                                {
                                    "0": "67",
                                    "1": "NULL",
                                    "2": "NULL",
                                    "3": "300"
                                },
                                {
                                    "0": "68",
                                    "1": "NULL",
                                    "2": "NULL",
                                    "3": "150"
                                },
                                {
                                    "0": "70",
                                    "1": "NULL",
                                    "2": "NULL",
                                    "3": "700"
                                },
                                {
                                    "0": "71",
                                    "1": "NULL",
                                    "2": "NULL",
                                    "3": "900"
                                },
                                {
                                    "0": "72",
                                    "1": "NULL",
                                    "2": "NULL",
                                    "3": "1550"
                                },
                                {
                                    "0": "73",
                                    "1": "NULL",
                                    "2": "NULL",
                                    "3": "500"
                                },
                                {
                                    "0": "74",
                                    "1": "NULL",
                                    "2": "NULL",
                                    "3": "300"
                                },
                                {
                                    "0": "75",
                                    "1": "NULL",
                                    "2": "NULL",
                                    "3": "250"
                                },
                                {
                                    "0": "76",
                                    "1": "NULL",
                                    "2": "NULL",
                                    "3": "220"
                                },
                                {
                                    "0": "78",
                                    "1": "NULL",
                                    "2": "NULL",
                                    "3": "802"
                                },
                                {
                                    "0": "79",
                                    "1": "NULL",
                                    "2": "NULL",
                                    "3": "350"
                                },
                                {
                                    "0": "80",
                                    "1": "NULL",
                                    "2": "NULL",
                                    "3": "800"
                                },
                                {
                                    "0": "82",
                                    "1": "NULL",
                                    "2": "NULL",
                                    "3": "1300"
                                },
                                {
                                    "0": "83",
                                    "1": "NULL",
                                    "2": "NULL",
                                    "3": "883"
                                },
                                {
                                    "0": "84",
                                    "1": "NULL",
                                    "2": "NULL",
                                    "3": "2800"
                                },
                                {
                                    "0": "85",
                                    "1": "NULL",
                                    "2": "NULL",
                                    "3": "1531"
                                },
                                {
                                    "0": "86",
                                    "1": "NULL",
                                    "2": "NULL",
                                    "3": "1000"
                                },
                                {
                                    "0": "88",
                                    "1": "NULL",
                                    "2": "NULL",
                                    "3": "304"
                                },
                                {
                                    "0": "89",
                                    "1": "NULL",
                                    "2": "NULL",
                                    "3": "867"
                                },
                                {
                                    "0": "90",
                                    "1": "NULL",
                                    "2": "NULL",
                                    "3": "150"
                                },
                                {
                                    "0": "91",
                                    "1": "NULL",
                                    "2": "NULL",
                                    "3": "2101"
                                },
                                {
                                    "0": "92",
                                    "1": "NULL",
                                    "2": "NULL",
                                    "3": "550"
                                },
                                {
                                    "0": "93",
                                    "1": "NULL",
                                    "2": "NULL",
                                    "3": "786"
                                },
                                {
                                    "0": "94",
                                    "1": "NULL",
                                    "2": "NULL",
                                    "3": "2150"
                                },
                                {
                                    "0": "95",
                                    "1": "NULL",
                                    "2": "NULL",
                                    "3": "500"
                                },
                                {
                                    "0": "96",
                                    "1": "NULL",
                                    "2": "NULL",
                                    "3": "2567"
                                },
                                {
                                    "0": "97",
                                    "1": "NULL",
                                    "2": "NULL",
                                    "3": "990"
                                },
                                {
                                    "0": "98",
                                    "1": "NULL",
                                    "2": "NULL",
                                    "3": "175"
                                },
                                {
                                    "0": "99",
                                    "1": "NULL",
                                    "2": "NULL",
                                    "3": "400"
                                },
                                {
                                    "0": "100",
                                    "1": "NULL",
                                    "2": "NULL",
                                    "3": "2056"
                                },
                                {
                                    "0": "101",
                                    "1": "NULL",
                                    "2": "NULL",
                                    "3": "1800"
                                },
                                {
                                    "0": "103",
                                    "1": "NULL",
                                    "2": "NULL",
                                    "3": "300"
                                },
                                {
                                    "0": "104",
                                    "1": "NULL",
                                    "2": "NULL",
                                    "3": "4150"
                                },
                                {
                                    "0": "105",
                                    "1": "NULL",
                                    "2": "NULL",
                                    "3": "9000"
                                },
                                {
                                    "0": "106",
                                    "1": "NULL",
                                    "2": "NULL",
                                    "3": "1720"
                                },
                                {
                                    "0": "107",
                                    "1": "NULL",
                                    "2": "NULL",
                                    "3": "77"
                                },
                                {
                                    "0": "108",
                                    "1": "NULL",
                                    "2": "NULL",
                                    "3": "289"
                                },
                                {
                                    "0": "109",
                                    "1": "NULL",
                                    "2": "NULL",
                                    "3": "1000"
                                },
                                {
                                    "0": "110",
                                    "1": "NULL",
                                    "2": "NULL",
                                    "3": "3400"
                                },
                                {
                                    "0": "111",
                                    "1": "NULL",
                                    "2": "NULL",
                                    "3": "200"
                                },
                                {
                                    "0": "112",
                                    "1": "NULL",
                                    "2": "NULL",
                                    "3": "600"
                                },
                                {
                                    "0": "114",
                                    "1": "NULL",
                                    "2": "NULL",
                                    "3": "5000"
                                },
                                {
                                    "0": "115",
                                    "1": "NULL",
                                    "2": "NULL",
                                    "3": "200"
                                },
                                {
                                    "0": "116",
                                    "1": "NULL",
                                    "2": "NULL",
                                    "3": "350"
                                },
                                {
                                    "0": "117",
                                    "1": "NULL",
                                    "2": "NULL",
                                    "3": "200"
                                },
                                {
                                    "0": "118",
                                    "1": "NULL",
                                    "2": "NULL",
                                    "3": "9800"
                                },
                                {
                                    "0": "119",
                                    "1": "NULL",
                                    "2": "NULL",
                                    "3": "867"
                                },
                                {
                                    "0": "121",
                                    "1": "NULL",
                                    "2": "NULL",
                                    "3": "850"
                                },
                                {
                                    "0": "122",
                                    "1": "NULL",
                                    "2": "NULL",
                                    "3": "1471"
                                },
                                {
                                    "0": "123",
                                    "1": "NULL",
                                    "2": "NULL",
                                    "3": "1000"
                                },
                                {
                                    "0": "124",
                                    "1": "NULL",
                                    "2": "NULL",
                                    "3": "1590"
                                },
                                {
                                    "0": "125",
                                    "1": "NULL",
                                    "2": "NULL",
                                    "3": "475"
                                },
                                {
                                    "0": "126",
                                    "1": "NULL",
                                    "2": "NULL",
                                    "3": "400"
                                },
                                {
                                    "0": "127",
                                    "1": "NULL",
                                    "2": "NULL",
                                    "3": "1600"
                                },
                                {
                                    "0": "128",
                                    "1": "NULL",
                                    "2": "NULL",
                                    "3": "400"
                                },
                                {
                                    "0": "129",
                                    "1": "NULL",
                                    "2": "NULL",
                                    "3": "350"
                                },
                                {
                                    "0": "130",
                                    "1": "NULL",
                                    "2": "NULL",
                                    "3": "77"
                                },
                                {
                                    "0": "131",
                                    "1": "NULL",
                                    "2": "NULL",
                                    "3": "300"
                                },
                                {
                                    "0": "132",
                                    "1": "NULL",
                                    "2": "NULL",
                                    "3": "100"
                                },
                                {
                                    "0": "133",
                                    "1": "NULL",
                                    "2": "NULL",
                                    "3": "700"
                                },
                                {
                                    "0": "134",
                                    "1": "NULL",
                                    "2": "NULL",
                                    "3": "250"
                                },
                                {
                                    "0": "135",
                                    "1": "NULL",
                                    "2": "NULL",
                                    "3": "300"
                                },
                                {
                                    "0": "136",
                                    "1": "NULL",
                                    "2": "NULL",
                                    "3": "2600"
                                },
                                {
                                    "0": "137",
                                    "1": "NULL",
                                    "2": "NULL",
                                    "3": "167"
                                },
                                {
                                    "0": "138",
                                    "1": "NULL",
                                    "2": "NULL",
                                    "3": "360"
                                },
                                {
                                    "0": "139",
                                    "1": "NULL",
                                    "2": "NULL",
                                    "3": "500"
                                },
                                {
                                    "0": "140",
                                    "1": "NULL",
                                    "2": "NULL",
                                    "3": "1600"
                                },
                                {
                                    "0": "141",
                                    "1": "NULL",
                                    "2": "NULL",
                                    "3": "100"
                                },
                                {
                                    "0": "142",
                                    "1": "NULL",
                                    "2": "NULL",
                                    "3": "100"
                                },
                                {
                                    "0": "143",
                                    "1": "NULL",
                                    "2": "NULL",
                                    "3": "200"
                                },
                                {
                                    "0": "144",
                                    "1": "NULL",
                                    "2": "NULL",
                                    "3": "200"
                                },
                                {
                                    "0": "145",
                                    "1": "NULL",
                                    "2": "NULL",
                                    "3": "1022"
                                },
                                {
                                    "0": "146",
                                    "1": "NULL",
                                    "2": "NULL",
                                    "3": "843"
                                },
                                {
                                    "0": "147",
                                    "1": "NULL",
                                    "2": "NULL",
                                    "3": "100"
                                },
                                {
                                    "0": "148",
                                    "1": "NULL",
                                    "2": "NULL",
                                    "3": "300"
                                },
                                {
                                    "0": "149",
                                    "1": "NULL",
                                    "2": "NULL",
                                    "3": "2133"
                                },
                                {
                                    "0": "150",
                                    "1": "NULL",
                                    "2": "NULL",
                                    "3": "2250"
                                },
                                {
                                    "0": "151",
                                    "1": "NULL",
                                    "2": "NULL",
                                    "3": "100"
                                },
                                {
                                    "0": "152",
                                    "1": "NULL",
                                    "2": "NULL",
                                    "3": "533"
                                },
                                {
                                    "0": "153",
                                    "1": "NULL",
                                    "2": "NULL",
                                    "3": "200"
                                },
                                {
                                    "0": "154",
                                    "1": "NULL",
                                    "2": "NULL",
                                    "3": "3025"
                                },
                                {
                                    "0": "155",
                                    "1": "NULL",
                                    "2": "NULL",
                                    "3": "100"
                                }
                            ]
                        },
                        "text/html": [
                            "<table>",
                            "<tr><th>KAT_ID</th><th>RAKTAR_KOD</th><th>MEGYS</th><th>Átlagos készlet</th></tr>",
                            "<tr><td>NULL</td><td>NULL</td><td>csomag</td><td>797</td></tr>",
                            "<tr><td>NULL</td><td>NULL</td><td>db</td><td>1688</td></tr>",
                            "<tr><td>NULL</td><td>NULL</td><td>doboz</td><td>100</td></tr>",
                            "<tr><td>NULL</td><td>NULL</td><td>ív</td><td>729</td></tr>",
                            "<tr><td>NULL</td><td>NULL</td><td>tekercs</td><td>8000</td></tr>",
                            "<tr><td>NULL</td><td>NULL</td><td>üveg</td><td>300</td></tr>",
                            "<tr><td>NULL</td><td>1</td><td>NULL</td><td>249</td></tr>",
                            "<tr><td>NULL</td><td>2</td><td>NULL</td><td>217</td></tr>",
                            "<tr><td>NULL</td><td>3</td><td>NULL</td><td>263</td></tr>",
                            "<tr><td>NULL</td><td>4</td><td>NULL</td><td>380</td></tr>",
                            "<tr><td>NULL</td><td>5</td><td>NULL</td><td>885</td></tr>",
                            "<tr><td>NULL</td><td>6</td><td>NULL</td><td>2292</td></tr>",
                            "<tr><td>NULL</td><td>7</td><td>NULL</td><td>1746</td></tr>",
                            "<tr><td>NULL</td><td>8</td><td>NULL</td><td>2014</td></tr>",
                            "<tr><td>NULL</td><td>9</td><td>NULL</td><td>1211</td></tr>",
                            "<tr><td>4</td><td>NULL</td><td>NULL</td><td>833</td></tr>",
                            "<tr><td>5</td><td>NULL</td><td>NULL</td><td>1500</td></tr>",
                            "<tr><td>6</td><td>NULL</td><td>NULL</td><td>4250</td></tr>",
                            "<tr><td>7</td><td>NULL</td><td>NULL</td><td>833</td></tr>",
                            "<tr><td>8</td><td>NULL</td><td>NULL</td><td>302</td></tr>",
                            "<tr><td>9</td><td>NULL</td><td>NULL</td><td>3000</td></tr>",
                            "<tr><td>10</td><td>NULL</td><td>NULL</td><td>100</td></tr>",
                            "<tr><td>11</td><td>NULL</td><td>NULL</td><td>200</td></tr>",
                            "<tr><td>12</td><td>NULL</td><td>NULL</td><td>200</td></tr>",
                            "<tr><td>13</td><td>NULL</td><td>NULL</td><td>150</td></tr>",
                            "<tr><td>14</td><td>NULL</td><td>NULL</td><td>575</td></tr>",
                            "<tr><td>15</td><td>NULL</td><td>NULL</td><td>700</td></tr>",
                            "<tr><td>16</td><td>NULL</td><td>NULL</td><td>2414</td></tr>",
                            "<tr><td>17</td><td>NULL</td><td>NULL</td><td>400</td></tr>",
                            "<tr><td>18</td><td>NULL</td><td>NULL</td><td>150</td></tr>",
                            "<tr><td>19</td><td>NULL</td><td>NULL</td><td>295</td></tr>",
                            "<tr><td>20</td><td>NULL</td><td>NULL</td><td>400</td></tr>",
                            "<tr><td>21</td><td>NULL</td><td>NULL</td><td>580</td></tr>",
                            "<tr><td>22</td><td>NULL</td><td>NULL</td><td>150</td></tr>",
                            "<tr><td>24</td><td>NULL</td><td>NULL</td><td>1029</td></tr>",
                            "<tr><td>25</td><td>NULL</td><td>NULL</td><td>1975</td></tr>",
                            "<tr><td>26</td><td>NULL</td><td>NULL</td><td>400</td></tr>",
                            "<tr><td>27</td><td>NULL</td><td>NULL</td><td>167</td></tr>",
                            "<tr><td>28</td><td>NULL</td><td>NULL</td><td>13400</td></tr>",
                            "<tr><td>29</td><td>NULL</td><td>NULL</td><td>1300</td></tr>",
                            "<tr><td>30</td><td>NULL</td><td>NULL</td><td>1371</td></tr>",
                            "<tr><td>31</td><td>NULL</td><td>NULL</td><td>100</td></tr>",
                            "<tr><td>32</td><td>NULL</td><td>NULL</td><td>3900</td></tr>",
                            "<tr><td>33</td><td>NULL</td><td>NULL</td><td>200</td></tr>",
                            "<tr><td>34</td><td>NULL</td><td>NULL</td><td>300</td></tr>",
                            "<tr><td>35</td><td>NULL</td><td>NULL</td><td>324</td></tr>",
                            "<tr><td>36</td><td>NULL</td><td>NULL</td><td>440</td></tr>",
                            "<tr><td>37</td><td>NULL</td><td>NULL</td><td>381</td></tr>",
                            "<tr><td>38</td><td>NULL</td><td>NULL</td><td>173</td></tr>",
                            "<tr><td>39</td><td>NULL</td><td>NULL</td><td>247</td></tr>",
                            "<tr><td>40</td><td>NULL</td><td>NULL</td><td>900</td></tr>",
                            "<tr><td>41</td><td>NULL</td><td>NULL</td><td>354</td></tr>",
                            "<tr><td>42</td><td>NULL</td><td>NULL</td><td>500</td></tr>",
                            "<tr><td>43</td><td>NULL</td><td>NULL</td><td>100</td></tr>",
                            "<tr><td>44</td><td>NULL</td><td>NULL</td><td>200</td></tr>",
                            "<tr><td>45</td><td>NULL</td><td>NULL</td><td>1264</td></tr>",
                            "<tr><td>46</td><td>NULL</td><td>NULL</td><td>314</td></tr>",
                            "<tr><td>47</td><td>NULL</td><td>NULL</td><td>1200</td></tr>",
                            "<tr><td>48</td><td>NULL</td><td>NULL</td><td>1800</td></tr>",
                            "<tr><td>49</td><td>NULL</td><td>NULL</td><td>150</td></tr>",
                            "<tr><td>50</td><td>NULL</td><td>NULL</td><td>500</td></tr>",
                            "<tr><td>51</td><td>NULL</td><td>NULL</td><td>2133</td></tr>",
                            "<tr><td>52</td><td>NULL</td><td>NULL</td><td>6212</td></tr>",
                            "<tr><td>53</td><td>NULL</td><td>NULL</td><td>400</td></tr>",
                            "<tr><td>54</td><td>NULL</td><td>NULL</td><td>286</td></tr>",
                            "<tr><td>55</td><td>NULL</td><td>NULL</td><td>237</td></tr>",
                            "<tr><td>56</td><td>NULL</td><td>NULL</td><td>248</td></tr>",
                            "<tr><td>57</td><td>NULL</td><td>NULL</td><td>234</td></tr>",
                            "<tr><td>58</td><td>NULL</td><td>NULL</td><td>800</td></tr>",
                            "<tr><td>59</td><td>NULL</td><td>NULL</td><td>675</td></tr>",
                            "<tr><td>60</td><td>NULL</td><td>NULL</td><td>1080</td></tr>",
                            "<tr><td>61</td><td>NULL</td><td>NULL</td><td>700</td></tr>",
                            "<tr><td>62</td><td>NULL</td><td>NULL</td><td>1650</td></tr>",
                            "<tr><td>64</td><td>NULL</td><td>NULL</td><td>675</td></tr>",
                            "<tr><td>65</td><td>NULL</td><td>NULL</td><td>150</td></tr>",
                            "<tr><td>66</td><td>NULL</td><td>NULL</td><td>271</td></tr>",
                            "<tr><td>67</td><td>NULL</td><td>NULL</td><td>300</td></tr>",
                            "<tr><td>68</td><td>NULL</td><td>NULL</td><td>150</td></tr>",
                            "<tr><td>70</td><td>NULL</td><td>NULL</td><td>700</td></tr>",
                            "<tr><td>71</td><td>NULL</td><td>NULL</td><td>900</td></tr>",
                            "<tr><td>72</td><td>NULL</td><td>NULL</td><td>1550</td></tr>",
                            "<tr><td>73</td><td>NULL</td><td>NULL</td><td>500</td></tr>",
                            "<tr><td>74</td><td>NULL</td><td>NULL</td><td>300</td></tr>",
                            "<tr><td>75</td><td>NULL</td><td>NULL</td><td>250</td></tr>",
                            "<tr><td>76</td><td>NULL</td><td>NULL</td><td>220</td></tr>",
                            "<tr><td>78</td><td>NULL</td><td>NULL</td><td>802</td></tr>",
                            "<tr><td>79</td><td>NULL</td><td>NULL</td><td>350</td></tr>",
                            "<tr><td>80</td><td>NULL</td><td>NULL</td><td>800</td></tr>",
                            "<tr><td>82</td><td>NULL</td><td>NULL</td><td>1300</td></tr>",
                            "<tr><td>83</td><td>NULL</td><td>NULL</td><td>883</td></tr>",
                            "<tr><td>84</td><td>NULL</td><td>NULL</td><td>2800</td></tr>",
                            "<tr><td>85</td><td>NULL</td><td>NULL</td><td>1531</td></tr>",
                            "<tr><td>86</td><td>NULL</td><td>NULL</td><td>1000</td></tr>",
                            "<tr><td>88</td><td>NULL</td><td>NULL</td><td>304</td></tr>",
                            "<tr><td>89</td><td>NULL</td><td>NULL</td><td>867</td></tr>",
                            "<tr><td>90</td><td>NULL</td><td>NULL</td><td>150</td></tr>",
                            "<tr><td>91</td><td>NULL</td><td>NULL</td><td>2101</td></tr>",
                            "<tr><td>92</td><td>NULL</td><td>NULL</td><td>550</td></tr>",
                            "<tr><td>93</td><td>NULL</td><td>NULL</td><td>786</td></tr>",
                            "<tr><td>94</td><td>NULL</td><td>NULL</td><td>2150</td></tr>",
                            "<tr><td>95</td><td>NULL</td><td>NULL</td><td>500</td></tr>",
                            "<tr><td>96</td><td>NULL</td><td>NULL</td><td>2567</td></tr>",
                            "<tr><td>97</td><td>NULL</td><td>NULL</td><td>990</td></tr>",
                            "<tr><td>98</td><td>NULL</td><td>NULL</td><td>175</td></tr>",
                            "<tr><td>99</td><td>NULL</td><td>NULL</td><td>400</td></tr>",
                            "<tr><td>100</td><td>NULL</td><td>NULL</td><td>2056</td></tr>",
                            "<tr><td>101</td><td>NULL</td><td>NULL</td><td>1800</td></tr>",
                            "<tr><td>103</td><td>NULL</td><td>NULL</td><td>300</td></tr>",
                            "<tr><td>104</td><td>NULL</td><td>NULL</td><td>4150</td></tr>",
                            "<tr><td>105</td><td>NULL</td><td>NULL</td><td>9000</td></tr>",
                            "<tr><td>106</td><td>NULL</td><td>NULL</td><td>1720</td></tr>",
                            "<tr><td>107</td><td>NULL</td><td>NULL</td><td>77</td></tr>",
                            "<tr><td>108</td><td>NULL</td><td>NULL</td><td>289</td></tr>",
                            "<tr><td>109</td><td>NULL</td><td>NULL</td><td>1000</td></tr>",
                            "<tr><td>110</td><td>NULL</td><td>NULL</td><td>3400</td></tr>",
                            "<tr><td>111</td><td>NULL</td><td>NULL</td><td>200</td></tr>",
                            "<tr><td>112</td><td>NULL</td><td>NULL</td><td>600</td></tr>",
                            "<tr><td>114</td><td>NULL</td><td>NULL</td><td>5000</td></tr>",
                            "<tr><td>115</td><td>NULL</td><td>NULL</td><td>200</td></tr>",
                            "<tr><td>116</td><td>NULL</td><td>NULL</td><td>350</td></tr>",
                            "<tr><td>117</td><td>NULL</td><td>NULL</td><td>200</td></tr>",
                            "<tr><td>118</td><td>NULL</td><td>NULL</td><td>9800</td></tr>",
                            "<tr><td>119</td><td>NULL</td><td>NULL</td><td>867</td></tr>",
                            "<tr><td>121</td><td>NULL</td><td>NULL</td><td>850</td></tr>",
                            "<tr><td>122</td><td>NULL</td><td>NULL</td><td>1471</td></tr>",
                            "<tr><td>123</td><td>NULL</td><td>NULL</td><td>1000</td></tr>",
                            "<tr><td>124</td><td>NULL</td><td>NULL</td><td>1590</td></tr>",
                            "<tr><td>125</td><td>NULL</td><td>NULL</td><td>475</td></tr>",
                            "<tr><td>126</td><td>NULL</td><td>NULL</td><td>400</td></tr>",
                            "<tr><td>127</td><td>NULL</td><td>NULL</td><td>1600</td></tr>",
                            "<tr><td>128</td><td>NULL</td><td>NULL</td><td>400</td></tr>",
                            "<tr><td>129</td><td>NULL</td><td>NULL</td><td>350</td></tr>",
                            "<tr><td>130</td><td>NULL</td><td>NULL</td><td>77</td></tr>",
                            "<tr><td>131</td><td>NULL</td><td>NULL</td><td>300</td></tr>",
                            "<tr><td>132</td><td>NULL</td><td>NULL</td><td>100</td></tr>",
                            "<tr><td>133</td><td>NULL</td><td>NULL</td><td>700</td></tr>",
                            "<tr><td>134</td><td>NULL</td><td>NULL</td><td>250</td></tr>",
                            "<tr><td>135</td><td>NULL</td><td>NULL</td><td>300</td></tr>",
                            "<tr><td>136</td><td>NULL</td><td>NULL</td><td>2600</td></tr>",
                            "<tr><td>137</td><td>NULL</td><td>NULL</td><td>167</td></tr>",
                            "<tr><td>138</td><td>NULL</td><td>NULL</td><td>360</td></tr>",
                            "<tr><td>139</td><td>NULL</td><td>NULL</td><td>500</td></tr>",
                            "<tr><td>140</td><td>NULL</td><td>NULL</td><td>1600</td></tr>",
                            "<tr><td>141</td><td>NULL</td><td>NULL</td><td>100</td></tr>",
                            "<tr><td>142</td><td>NULL</td><td>NULL</td><td>100</td></tr>",
                            "<tr><td>143</td><td>NULL</td><td>NULL</td><td>200</td></tr>",
                            "<tr><td>144</td><td>NULL</td><td>NULL</td><td>200</td></tr>",
                            "<tr><td>145</td><td>NULL</td><td>NULL</td><td>1022</td></tr>",
                            "<tr><td>146</td><td>NULL</td><td>NULL</td><td>843</td></tr>",
                            "<tr><td>147</td><td>NULL</td><td>NULL</td><td>100</td></tr>",
                            "<tr><td>148</td><td>NULL</td><td>NULL</td><td>300</td></tr>",
                            "<tr><td>149</td><td>NULL</td><td>NULL</td><td>2133</td></tr>",
                            "<tr><td>150</td><td>NULL</td><td>NULL</td><td>2250</td></tr>",
                            "<tr><td>151</td><td>NULL</td><td>NULL</td><td>100</td></tr>",
                            "<tr><td>152</td><td>NULL</td><td>NULL</td><td>533</td></tr>",
                            "<tr><td>153</td><td>NULL</td><td>NULL</td><td>200</td></tr>",
                            "<tr><td>154</td><td>NULL</td><td>NULL</td><td>3025</td></tr>",
                            "<tr><td>155</td><td>NULL</td><td>NULL</td><td>100</td></tr>",
                            "</table>"
                        ]
                    }
                }
            ],
            "execution_count": 2
        },
        {
            "cell_type": "markdown",
            "source": [
                "3\\. Készítsünk listát a megrendelt termékek legkisebb és  \n",
                "legnagyobb egységáráról szállítási dátum, azon belül szállítási  \n",
                "mód szerinti bontásban ! A lista csak a 2015 májusi szállításokat  \n",
                "tartalmazza! Jelenítsük meg a részösszegeket és a végösszeget is!"
            ],
            "metadata": {
                "azdata_cell_guid": "3a3c4e41-b621-4e08-b879-78f1f8564bfa"
            },
            "attachments": {}
        },
        {
            "cell_type": "code",
            "source": [
                ""
            ],
            "metadata": {
                "azdata_cell_guid": "bb359042-df26-49da-a385-ca96b966b8c3"
            },
            "outputs": [],
            "execution_count": null
        },
        {
            "cell_type": "markdown",
            "source": [
                "4 .Készítsünk csoportot a termékek listaára alapján a következők szerint:  \n",
                "Az \"olcsó\" termékek legyenek azok, amelyek listaára 3000 alatt van.  \n",
                "A \"drága\" termékek legyenek az 5000 felettiek, a többi legyen \"közepes\".  \n",
                "Listázzuk az egyes csoportokat, és a csoportokba tartozó termékek  \n",
                "darabszámát! A lista jelenítse meg a végösszeget is!"
            ],
            "metadata": {
                "azdata_cell_guid": "16c0ca87-c668-4216-9a70-fba531289769"
            },
            "attachments": {}
        },
        {
            "cell_type": "code",
            "source": [
                "--ROLLUP"
            ],
            "metadata": {
                "azdata_cell_guid": "d2e08d04-329e-4555-9a7b-1fec9d5a75fb"
            },
            "outputs": [],
            "execution_count": null
        },
        {
            "cell_type": "markdown",
            "source": [
                "5\\. Listázzuk a rendelési tételek számát raktáranként éves bontásban!  \n",
                "A listában a raktár neve, az év és a darabszám jelenjen meg!  \n",
                "A lista jelenítse meg a részösszegeket és a végösszeget is!  \n",
                "A végösszeget megfelelően jelöljük!  \n",
                "Az oszlopokat nevezzük el értelemszerűen!"
            ],
            "metadata": {
                "azdata_cell_guid": "6d0f8d0b-d9b2-4167-a6f5-c046499fe3f6"
            },
            "attachments": {}
        },
        {
            "cell_type": "code",
            "source": [
                ""
            ],
            "metadata": {
                "azdata_cell_guid": "9a15b997-51d0-4814-a8fd-c55543458de0"
            },
            "outputs": [],
            "execution_count": null
        },
        {
            "cell_type": "markdown",
            "source": [
                "6\\. Készítsünk listát az ügyfelek adatairól név szerinti sorrendben.  \n",
                "Minden sorban jelenjen meg a sorrend szerint előző, illetve következő ügyfél neve is.  \n",
                "Ha nincs előző vagy következő ügyfél, akkor a 'Nincs' jelenjen meg!"
            ],
            "metadata": {
                "azdata_cell_guid": "39f58487-beb9-4d7d-94d2-0762cf76a319"
            },
            "attachments": {}
        },
        {
            "cell_type": "code",
            "source": [
                ""
            ],
            "metadata": {
                "azdata_cell_guid": "f863100a-50d1-437f-96c1-3b4eee9b4959"
            },
            "outputs": [],
            "execution_count": null
        },
        {
            "cell_type": "markdown",
            "source": [
                "7\\. Készítsünk lekérdezést, amely megmutatja, hogy melyik  \n",
                "termékkategóriába hány termék tartozik. A lista a kategória nevét  \n",
                "és a darabszámot jelenítse meg. A lista ne tartalmazzon duplikált sorokat.  \n",
                "A feladatot partíciók segítségével oldjuk meg!"
            ],
            "metadata": {
                "azdata_cell_guid": "9593632a-54ea-4c03-825e-9a6ba69a1528"
            },
            "attachments": {}
        },
        {
            "cell_type": "code",
            "source": [
                ""
            ],
            "metadata": {
                "azdata_cell_guid": "5416cc87-dab6-4017-a305-5cb178345dd9"
            },
            "outputs": [],
            "execution_count": null
        },
        {
            "cell_type": "markdown",
            "source": [
                "8\\. Készítsünk listát a rendelési tételekről.  \n",
                "Az egyes rendelési tételeket termékenként soroljuk be 4 osztályba a rendelés mennyisége alapján.\n",
                "\n",
                "Jelenítsük meg ezt az információt is egy új oszlopban, az oszlop neve legyen 'Mennyiségi kategória'.  \n",
                "A lista csak a 100 Ft feletti egységárú rendelési tételeket vegye figyelembe!"
            ],
            "metadata": {
                "azdata_cell_guid": "6b2be7f7-0e1b-4fc4-92de-90b6715d7647"
            },
            "attachments": {}
        },
        {
            "cell_type": "code",
            "source": [
                ""
            ],
            "metadata": {
                "azdata_cell_guid": "567aef4c-a7e5-4dec-a264-7f326e1ee820"
            },
            "outputs": [],
            "execution_count": null
        },
        {
            "cell_type": "markdown",
            "source": [
                "9\\. Listázzuk a termékek kódját, megnevezését, kategóriájának nevét, és listaárát.  \n",
                "A listát egészítsük ki két új oszloppal, amelyek a kategória legolcsóbb, illetve legdrágább termékének árát tartalmazzák.  \n",
                "A két új oszlop létrehozásánál partíciókkal dolgozzunk!"
            ],
            "metadata": {
                "azdata_cell_guid": "5d826aeb-b0f8-4665-93a1-92c7c827d465"
            },
            "attachments": {}
        },
        {
            "cell_type": "code",
            "source": [
                ""
            ],
            "metadata": {
                "azdata_cell_guid": "f8c3b11e-200c-4252-a2cf-0bd6042f3fb1"
            },
            "outputs": [],
            "execution_count": null
        },
        {
            "cell_type": "markdown",
            "source": [
                "10\\. Készítsünk listát a rendelésekről. A lista legyen rendezve ügyfelenként (LOGIN), azon belül a rendelés dátuma szerint.  \n",
                "A listához készítsünk sorszámozást is.  \n",
                "A sorszám a következő formában jelenjen meg: sorszám\\_év\\_login. Pl: 1\\_2015\\_adam1  \n",
                "A számozás login-onként, azon belül rendelési évenként kezdődjön újra.  \n",
                "A sorszám oszlop neve legyen Azonosító."
            ],
            "metadata": {
                "azdata_cell_guid": "2f42a573-1384-422a-8040-1306b38f2657"
            },
            "attachments": {}
        },
        {
            "cell_type": "code",
            "source": [
                ""
            ],
            "metadata": {
                "azdata_cell_guid": "29db0d43-7709-44df-a749-ecaca8047f63"
            },
            "outputs": [],
            "execution_count": null
        },
        {
            "cell_type": "markdown",
            "source": [
                "11.Készítsünk listát a termékek adatairól listaár szerint növekvő  sorrenben!  \n",
                "A lista jelenítse meg két új oszlopban a sorrend szerint előző, illetve következő termék listaárát is a termék saját   \n",
                " kategóriájában és raktárában! Ahol nincs előző vagy következő  érték, ott 0 jelenjen meg!  \n",
                " Az oszlopokat nevezzük el értelemszerűen!"
            ],
            "metadata": {
                "azdata_cell_guid": "357279eb-71ee-473e-9763-eb0b238ff906"
            },
            "attachments": {}
        },
        {
            "cell_type": "code",
            "source": [
                ""
            ],
            "metadata": {
                "azdata_cell_guid": "f79d14ed-9aa1-4434-a9c3-8a9cf40b4d9c"
            },
            "outputs": [],
            "execution_count": null
        },
        {
            "cell_type": "markdown",
            "source": [
                "12\\. Listázzuk a termékek kódját, nevét és listaárát listaár szerinti sorrendben!  \n",
                "Vegyünk fel egy új oszlopot Mozgóátlag néven, amely minden esetben az aktuális termék,  \n",
                "az előző, és a következő termék átlagárát tartalmazza!  \n",
                "A mozgóátlagot kerekítsük két tizedesre!"
            ],
            "metadata": {
                "azdata_cell_guid": "f974b17a-0c4a-47f7-8f00-550e9847550f"
            },
            "attachments": {}
        },
        {
            "cell_type": "code",
            "source": [
                ""
            ],
            "metadata": {
                "azdata_cell_guid": "d6acc00d-7046-4f2c-810d-f82a18cca1a4"
            },
            "outputs": [],
            "execution_count": null
        },
        {
            "cell_type": "markdown",
            "source": [
                "13\\. Készítsünk listát, amely a rendelések sorszámát és a rendelés értékét tartalmazza.  \n",
                "A listát egészítsük ki egy új oszloppal, amely minden rendelés esetén addigi rendelések értékének összegét tartalmazza  \n",
                "(az aktuálisat is beleértve)!  \n",
                "A listát rendezzük sorszám szerint növekvő sorrendbe. A lista ne tartalmazzon duplikált sorokat!  \n",
                "Nevezzük el az oszlopokat értelemszerűen!"
            ],
            "metadata": {
                "azdata_cell_guid": "526e07ad-8234-46b8-bdba-af5474604839"
            },
            "attachments": {}
        },
        {
            "cell_type": "code",
            "source": [
                ""
            ],
            "metadata": {
                "azdata_cell_guid": "596c853d-7ae5-4280-95e2-973c81aaea16"
            },
            "outputs": [],
            "execution_count": null
        },
        {
            "cell_type": "markdown",
            "source": [
                "14\\. Készítsünk listát a termékek kódjáról, nevéről, kategória azonosítójáról, raktár azonosítójáról és listaáráról, valamint  \n",
                "a termék adott szempontok szerinti rangsorokban elfogalt helyezéseiről.  \n",
                "(Szempontonként külön oszlopban, a helyezéseknél növekvő sorrendet feltételezve).  \n",
                "A szempontok a következők legyenek: listaár, kategória szerinti listaár, és raktárkód szerinti listaár.  \n",
                "Az oszlopokat nevezzük el értelemszerűen.  \n",
                "A helyezések egyenlőség esetén \"sűrűn\" kövessék egymást.  \n",
                "A lista legyen rendezett kategória azonosító, azon belül listaár szerint!"
            ],
            "metadata": {
                "azdata_cell_guid": "d153dce8-e47b-41b2-8fd9-e13a6313771d"
            },
            "attachments": {}
        },
        {
            "cell_type": "code",
            "source": [
                ""
            ],
            "metadata": {
                "azdata_cell_guid": "7c673b39-c0bd-49a2-a737-8bec0628e2d8"
            },
            "outputs": [],
            "execution_count": null
        },
        {
            "cell_type": "markdown",
            "source": [
                "15\\. Készítsünk listát a rendelési tételekről, amely minden sor esetén göngyölítve tartalmazza az ügyfél adott rendelési tételig  \n",
                "meglévő rendelési tételeinek összértékét!  \n",
                "Az új oszlop neve legyen Eddigi rendelési tételek összértéke!  \n",
                "Az ügyfél neve is jelenjen meg!"
            ],
            "metadata": {
                "azdata_cell_guid": "5ddc59be-70cf-4c6d-a8be-21b2df1f4e31"
            },
            "attachments": {}
        },
        {
            "cell_type": "code",
            "source": [
                ""
            ],
            "metadata": {
                "azdata_cell_guid": "f1fe1994-34cd-444b-b078-1313521bbcc1"
            },
            "outputs": [],
            "execution_count": null
        }
    ]
}